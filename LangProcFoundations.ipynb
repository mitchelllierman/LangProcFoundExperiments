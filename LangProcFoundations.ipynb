{
  "nbformat": 4,
  "nbformat_minor": 0,
  "metadata": {
    "colab": {
      "provenance": [],
      "authorship_tag": "ABX9TyOEhJfg4kpiUjjbnwdji5p7",
      "include_colab_link": true
    },
    "kernelspec": {
      "name": "python3",
      "display_name": "Python 3"
    },
    "language_info": {
      "name": "python"
    }
  },
  "cells": [
    {
      "cell_type": "markdown",
      "metadata": {
        "id": "view-in-github",
        "colab_type": "text"
      },
      "source": [
        "<a href=\"https://colab.research.google.com/github/mitchelllierman/LangProcFoundExperiments/blob/main/LangProcFoundations.ipynb\" target=\"_parent\"><img src=\"https://colab.research.google.com/assets/colab-badge.svg\" alt=\"Open In Colab\"/></a>"
      ]
    },
    {
      "cell_type": "code",
      "execution_count": null,
      "metadata": {
        "id": "o3QUcqdSTjoO"
      },
      "outputs": [],
      "source": [
        "def reader_loop(parch):\n",
        "    word = ''\n",
        "    for letter in range(len(parch)):\n",
        "        if parch[letter] != ' ' and parch[letter] != '.':\n",
        "            word += (parch[letter])\n",
        "        else: \n",
        "            print(word)\n",
        "            word = ''\n",
        "\n",
        "    print(word)"
      ]
    },
    {
      "cell_type": "code",
      "source": [
        "reader_loop(jimmy)"
      ],
      "metadata": {
        "id": "KNsyn9veVNQk"
      },
      "execution_count": null,
      "outputs": []
    },
    {
      "cell_type": "code",
      "source": [
        "def quotation_loop(parch):\n",
        "    bookofgoodquotes = []\n",
        "    quotemark1 = 0\n",
        "    quotemark2 = 0\n",
        "    flipflopper = True\n",
        "\n",
        "    for letter in range(len(parch)):\n",
        "        if parch[letter] == \"\\\"\" and flipflopper == True:\n",
        "            quotemark1 = letter\n",
        "            flipflopper = False\n",
        "        \n",
        "        elif parch[letter]==\"\\\"\" and flipflopper == False:\n",
        "            quotemark2 = letter\n",
        "            flipflopper = True\n",
        "            bookofgoodquotes.append(parch[quotemark1:quotemark2])\n",
        "                     \n",
        "    print(bookofgoodquotes) "
      ],
      "metadata": {
        "id": "gHN4jxcyVPh4"
      },
      "execution_count": null,
      "outputs": []
    },
    {
      "cell_type": "code",
      "source": [
        "Sally = \"\\\"Hello my name is Sally\\\" I like sandwiches. \\\"I am eleven years old.\\\"\""
      ],
      "metadata": {
        "id": "15TJY4T3VYCd"
      },
      "execution_count": null,
      "outputs": []
    },
    {
      "cell_type": "code",
      "source": [
        "quotation_loop(Sally)"
      ],
      "metadata": {
        "id": "dxCXfjbnVZcA"
      },
      "execution_count": null,
      "outputs": []
    },
    {
      "cell_type": "code",
      "source": [
        "def sentence_loop(parch):\n",
        "    bookofsentences = []\n",
        "    period_last = 0\n",
        "    period_prev = 0\n",
        "\n",
        "    for letter in range(len(parch)):\n",
        "        if parch[letter] == \".\":\n",
        "            period_prev = period_last + 1\n",
        "            period_last = letter   \n",
        "            bookofsentences.append(parch[period_prev:period_last+1].strip())\n",
        "\n",
        "    print(bookofsentences)         "
      ],
      "metadata": {
        "id": "-Oj-BHjoVct0"
      },
      "execution_count": null,
      "outputs": []
    },
    {
      "cell_type": "code",
      "source": [
        "sentence_loop(Sally)"
      ],
      "metadata": {
        "id": "ovpVlm0mVg7U"
      },
      "execution_count": null,
      "outputs": []
    },
    {
      "cell_type": "code",
      "source": [
        "word_count = { 'word' : 1 }"
      ],
      "metadata": {
        "id": "Nx5uZHhUWjNC"
      },
      "execution_count": null,
      "outputs": []
    },
    {
      "cell_type": "code",
      "source": [
        "test_string = \"Apple bottom jeans boots with the fur Apple\""
      ],
      "metadata": {
        "id": "3P1pGHFlW6Be"
      },
      "execution_count": null,
      "outputs": []
    },
    {
      "cell_type": "code",
      "source": [
        "def space_loop(parch):\n",
        "    bookofwords = []\n",
        "    space_last = 0\n",
        "    space_prev = 0\n",
        "\n",
        "    for letter in range(len(parch)):\n",
        "        if parch[letter] == \" \":\n",
        "            space_prev = space_last\n",
        "            space_last = letter\n",
        "            new_word = parch[space_prev:space_last+1].strip()   \n",
        "            bookofwords.append(new_word)\n",
        "            word_count[new_word] = bookofwords.count(new_word)\n",
        "        elif letter == len(parch)-1:\n",
        "            space_prev = space_last\n",
        "            space_last = letter\n",
        "            new_word = parch[space_prev:space_last+1].strip()   \n",
        "            bookofwords.append(new_word) \n",
        "            word_count[new_word] = bookofwords.count(new_word)\n",
        "    print(bookofwords) \n",
        "    print(word_count['Apple'])           "
      ],
      "metadata": {
        "id": "c9knG-NXXL82"
      },
      "execution_count": null,
      "outputs": []
    },
    {
      "cell_type": "code",
      "source": [
        "space_loop(test_string)"
      ],
      "metadata": {
        "colab": {
          "base_uri": "https://localhost:8080/"
        },
        "id": "g55zFpT_Zvg6",
        "outputId": "9bed74ba-069a-477c-c534-618b0089f691"
      },
      "execution_count": null,
      "outputs": [
        {
          "output_type": "stream",
          "name": "stdout",
          "text": [
            "['Apple', 'bottom', 'jeans', 'boots', 'with', 'the', 'fur', 'Apple']\n",
            "2\n"
          ]
        }
      ]
    }
  ]
}